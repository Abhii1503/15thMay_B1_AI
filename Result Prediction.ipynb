{
 "cells": [
  {
   "cell_type": "markdown",
   "metadata": {},
   "source": [
    "# <b> Result Prediction </b>\n",
    "### Importing Libarires"
   ]
  },
  {
   "cell_type": "code",
   "execution_count": 183,
   "metadata": {},
   "outputs": [],
   "source": [
    "import pandas as pd\n",
    "import numpy as np\n",
    "import matplotlib.pyplot as plt\n",
    "import seaborn as sns\n",
    "import warnings\n",
    "warnings.filterwarnings('ignore')"
   ]
  },
  {
   "cell_type": "markdown",
   "metadata": {},
   "source": [
    "## Reading Dataset"
   ]
  },
  {
   "cell_type": "code",
   "execution_count": 184,
   "metadata": {},
   "outputs": [
    {
     "data": {
      "text/html": [
       "<div>\n",
       "<style scoped>\n",
       "    .dataframe tbody tr th:only-of-type {\n",
       "        vertical-align: middle;\n",
       "    }\n",
       "\n",
       "    .dataframe tbody tr th {\n",
       "        vertical-align: top;\n",
       "    }\n",
       "\n",
       "    .dataframe thead th {\n",
       "        text-align: right;\n",
       "    }\n",
       "</style>\n",
       "<table border=\"1\" class=\"dataframe\">\n",
       "  <thead>\n",
       "    <tr style=\"text-align: right;\">\n",
       "      <th></th>\n",
       "      <th>1st</th>\n",
       "      <th>2nd</th>\n",
       "      <th>3rd</th>\n",
       "      <th>4th</th>\n",
       "      <th>5th</th>\n",
       "      <th>College Code</th>\n",
       "      <th>Gender</th>\n",
       "      <th>Roll</th>\n",
       "      <th>Roll no.</th>\n",
       "      <th>Subject Code</th>\n",
       "    </tr>\n",
       "  </thead>\n",
       "  <tbody>\n",
       "    <tr>\n",
       "      <th>0</th>\n",
       "      <td>8.11</td>\n",
       "      <td>7.68</td>\n",
       "      <td>7.11</td>\n",
       "      <td>7.43</td>\n",
       "      <td>8.18</td>\n",
       "      <td>115</td>\n",
       "      <td>Female</td>\n",
       "      <td>NaN</td>\n",
       "      <td>17020.0</td>\n",
       "      <td>16</td>\n",
       "    </tr>\n",
       "    <tr>\n",
       "      <th>1</th>\n",
       "      <td>6.48</td>\n",
       "      <td>5.90</td>\n",
       "      <td>4.15</td>\n",
       "      <td>4.29</td>\n",
       "      <td>4.96</td>\n",
       "      <td>115</td>\n",
       "      <td>Male</td>\n",
       "      <td>NaN</td>\n",
       "      <td>17021.0</td>\n",
       "      <td>16</td>\n",
       "    </tr>\n",
       "    <tr>\n",
       "      <th>2</th>\n",
       "      <td>8.41</td>\n",
       "      <td>8.24</td>\n",
       "      <td>7.52</td>\n",
       "      <td>8.25</td>\n",
       "      <td>7.75</td>\n",
       "      <td>115</td>\n",
       "      <td>Female</td>\n",
       "      <td>NaN</td>\n",
       "      <td>17022.0</td>\n",
       "      <td>16</td>\n",
       "    </tr>\n",
       "    <tr>\n",
       "      <th>3</th>\n",
       "      <td>7.33</td>\n",
       "      <td>6.83</td>\n",
       "      <td>6.33</td>\n",
       "      <td>6.79</td>\n",
       "      <td>6.89</td>\n",
       "      <td>115</td>\n",
       "      <td>Male</td>\n",
       "      <td>NaN</td>\n",
       "      <td>17023.0</td>\n",
       "      <td>16</td>\n",
       "    </tr>\n",
       "    <tr>\n",
       "      <th>4</th>\n",
       "      <td>7.89</td>\n",
       "      <td>7.34</td>\n",
       "      <td>7.22</td>\n",
       "      <td>7.32</td>\n",
       "      <td>7.46</td>\n",
       "      <td>115</td>\n",
       "      <td>Male</td>\n",
       "      <td>NaN</td>\n",
       "      <td>17024.0</td>\n",
       "      <td>16</td>\n",
       "    </tr>\n",
       "  </tbody>\n",
       "</table>\n",
       "</div>"
      ],
      "text/plain": [
       "    1st   2nd   3rd   4th   5th  College Code  Gender  Roll  Roll no.  \\\n",
       "0  8.11  7.68  7.11  7.43  8.18           115  Female   NaN   17020.0   \n",
       "1  6.48  5.90  4.15  4.29  4.96           115    Male   NaN   17021.0   \n",
       "2  8.41  8.24  7.52  8.25  7.75           115  Female   NaN   17022.0   \n",
       "3  7.33  6.83  6.33  6.79  6.89           115    Male   NaN   17023.0   \n",
       "4  7.89  7.34  7.22  7.32  7.46           115    Male   NaN   17024.0   \n",
       "\n",
       "   Subject Code  \n",
       "0            16  \n",
       "1            16  \n",
       "2            16  \n",
       "3            16  \n",
       "4            16  "
      ]
     },
     "execution_count": 184,
     "metadata": {},
     "output_type": "execute_result"
    }
   ],
   "source": [
    "df = pd.read_csv('data.csv')\n",
    "df.head()"
   ]
  },
  {
   "cell_type": "code",
   "execution_count": 185,
   "metadata": {},
   "outputs": [
    {
     "name": "stdout",
     "output_type": "stream",
     "text": [
      "<class 'pandas.core.frame.DataFrame'>\n",
      "RangeIndex: 178 entries, 0 to 177\n",
      "Data columns (total 10 columns):\n",
      " #   Column        Non-Null Count  Dtype  \n",
      "---  ------        --------------  -----  \n",
      " 0   1st           176 non-null    float64\n",
      " 1   2nd           174 non-null    float64\n",
      " 2   3rd           176 non-null    float64\n",
      " 3   4th           173 non-null    float64\n",
      " 4   5th           172 non-null    float64\n",
      " 5   College Code  178 non-null    int64  \n",
      " 6   Gender        177 non-null    object \n",
      " 7   Roll          132 non-null    float64\n",
      " 8   Roll no.      46 non-null     float64\n",
      " 9   Subject Code  178 non-null    int64  \n",
      "dtypes: float64(7), int64(2), object(1)\n",
      "memory usage: 14.0+ KB\n"
     ]
    }
   ],
   "source": [
    "df.info()"
   ]
  },
  {
   "cell_type": "code",
   "execution_count": 186,
   "metadata": {},
   "outputs": [
    {
     "data": {
      "text/plain": [
       "1st               2\n",
       "2nd               4\n",
       "3rd               2\n",
       "4th               5\n",
       "5th               6\n",
       "College Code      0\n",
       "Gender            1\n",
       "Roll             46\n",
       "Roll no.        132\n",
       "Subject Code      0\n",
       "dtype: int64"
      ]
     },
     "execution_count": 186,
     "metadata": {},
     "output_type": "execute_result"
    }
   ],
   "source": [
    "df.isnull().sum()"
   ]
  },
  {
   "cell_type": "markdown",
   "metadata": {},
   "source": [
    "#### <b>Filling the Null values and Merging Roll and Roll no columns into One Roll_No column.</b>"
   ]
  },
  {
   "cell_type": "code",
   "execution_count": 187,
   "metadata": {},
   "outputs": [],
   "source": [
    "df['Roll'].fillna(0,inplace=True)\n",
    "df['Roll no.'].fillna(0,inplace = True)"
   ]
  },
  {
   "cell_type": "code",
   "execution_count": 188,
   "metadata": {},
   "outputs": [],
   "source": [
    "df['Roll_No'] = df['Roll'] + df['Roll no.']\n",
    "df.drop(['Roll','Roll no.'],axis=1,inplace=True)"
   ]
  },
  {
   "cell_type": "code",
   "execution_count": 189,
   "metadata": {},
   "outputs": [
    {
     "data": {
      "text/html": [
       "<div>\n",
       "<style scoped>\n",
       "    .dataframe tbody tr th:only-of-type {\n",
       "        vertical-align: middle;\n",
       "    }\n",
       "\n",
       "    .dataframe tbody tr th {\n",
       "        vertical-align: top;\n",
       "    }\n",
       "\n",
       "    .dataframe thead th {\n",
       "        text-align: right;\n",
       "    }\n",
       "</style>\n",
       "<table border=\"1\" class=\"dataframe\">\n",
       "  <thead>\n",
       "    <tr style=\"text-align: right;\">\n",
       "      <th></th>\n",
       "      <th>1st</th>\n",
       "      <th>2nd</th>\n",
       "      <th>3rd</th>\n",
       "      <th>4th</th>\n",
       "      <th>5th</th>\n",
       "      <th>College Code</th>\n",
       "      <th>Gender</th>\n",
       "      <th>Subject Code</th>\n",
       "      <th>Roll_No</th>\n",
       "    </tr>\n",
       "  </thead>\n",
       "  <tbody>\n",
       "    <tr>\n",
       "      <th>0</th>\n",
       "      <td>8.11</td>\n",
       "      <td>7.68</td>\n",
       "      <td>7.11</td>\n",
       "      <td>7.43</td>\n",
       "      <td>8.18</td>\n",
       "      <td>115</td>\n",
       "      <td>Female</td>\n",
       "      <td>16</td>\n",
       "      <td>17020.0</td>\n",
       "    </tr>\n",
       "    <tr>\n",
       "      <th>1</th>\n",
       "      <td>6.48</td>\n",
       "      <td>5.90</td>\n",
       "      <td>4.15</td>\n",
       "      <td>4.29</td>\n",
       "      <td>4.96</td>\n",
       "      <td>115</td>\n",
       "      <td>Male</td>\n",
       "      <td>16</td>\n",
       "      <td>17021.0</td>\n",
       "    </tr>\n",
       "    <tr>\n",
       "      <th>2</th>\n",
       "      <td>8.41</td>\n",
       "      <td>8.24</td>\n",
       "      <td>7.52</td>\n",
       "      <td>8.25</td>\n",
       "      <td>7.75</td>\n",
       "      <td>115</td>\n",
       "      <td>Female</td>\n",
       "      <td>16</td>\n",
       "      <td>17022.0</td>\n",
       "    </tr>\n",
       "    <tr>\n",
       "      <th>3</th>\n",
       "      <td>7.33</td>\n",
       "      <td>6.83</td>\n",
       "      <td>6.33</td>\n",
       "      <td>6.79</td>\n",
       "      <td>6.89</td>\n",
       "      <td>115</td>\n",
       "      <td>Male</td>\n",
       "      <td>16</td>\n",
       "      <td>17023.0</td>\n",
       "    </tr>\n",
       "    <tr>\n",
       "      <th>4</th>\n",
       "      <td>7.89</td>\n",
       "      <td>7.34</td>\n",
       "      <td>7.22</td>\n",
       "      <td>7.32</td>\n",
       "      <td>7.46</td>\n",
       "      <td>115</td>\n",
       "      <td>Male</td>\n",
       "      <td>16</td>\n",
       "      <td>17024.0</td>\n",
       "    </tr>\n",
       "  </tbody>\n",
       "</table>\n",
       "</div>"
      ],
      "text/plain": [
       "    1st   2nd   3rd   4th   5th  College Code  Gender  Subject Code  Roll_No\n",
       "0  8.11  7.68  7.11  7.43  8.18           115  Female            16  17020.0\n",
       "1  6.48  5.90  4.15  4.29  4.96           115    Male            16  17021.0\n",
       "2  8.41  8.24  7.52  8.25  7.75           115  Female            16  17022.0\n",
       "3  7.33  6.83  6.33  6.79  6.89           115    Male            16  17023.0\n",
       "4  7.89  7.34  7.22  7.32  7.46           115    Male            16  17024.0"
      ]
     },
     "execution_count": 189,
     "metadata": {},
     "output_type": "execute_result"
    }
   ],
   "source": [
    "df.head()"
   ]
  },
  {
   "cell_type": "markdown",
   "metadata": {},
   "source": [
    "### Filling the Remaining Null values in the Dataset"
   ]
  },
  {
   "cell_type": "code",
   "execution_count": 190,
   "metadata": {},
   "outputs": [],
   "source": [
    "df['Gender'].fillna(0,inplace=True)"
   ]
  },
  {
   "cell_type": "code",
   "execution_count": 191,
   "metadata": {},
   "outputs": [
    {
     "data": {
      "text/plain": [
       "7.03886363636364"
      ]
     },
     "execution_count": 191,
     "metadata": {},
     "output_type": "execute_result"
    }
   ],
   "source": [
    "df['1st'].mean()"
   ]
  },
  {
   "cell_type": "code",
   "execution_count": 192,
   "metadata": {},
   "outputs": [],
   "source": [
    "df['1st'].fillna(df['1st'].mean(),inplace = True)   \n",
    "df['2nd'].fillna(df['2nd'].mean(),inplace=True)          \n",
    "df['3rd'].fillna(df['3rd'].mean(),inplace=True)         \n",
    "df['4th'].fillna(df['4th'].mean(),inplace=True)          \n",
    "df['5th'].fillna(df['5th'].mean(),inplace=True)           "
   ]
  },
  {
   "cell_type": "code",
   "execution_count": 193,
   "metadata": {},
   "outputs": [
    {
     "data": {
      "text/plain": [
       "1st             0\n",
       "2nd             0\n",
       "3rd             0\n",
       "4th             0\n",
       "5th             0\n",
       "College Code    0\n",
       "Gender          0\n",
       "Subject Code    0\n",
       "Roll_No         0\n",
       "dtype: int64"
      ]
     },
     "execution_count": 193,
     "metadata": {},
     "output_type": "execute_result"
    }
   ],
   "source": [
    "df.isnull().sum()"
   ]
  },
  {
   "cell_type": "code",
   "execution_count": 194,
   "metadata": {},
   "outputs": [
    {
     "data": {
      "text/plain": [
       "0      1151617020.0\n",
       "1      1151617021.0\n",
       "2      1151617022.0\n",
       "3      1151617023.0\n",
       "4      1151617024.0\n",
       "           ...     \n",
       "173    2412817048.0\n",
       "174    2412817049.0\n",
       "175    2412817050.0\n",
       "176    2412817051.0\n",
       "177    2412817052.0\n",
       "Name: Student_Id, Length: 178, dtype: object"
      ]
     },
     "execution_count": 194,
     "metadata": {},
     "output_type": "execute_result"
    }
   ],
   "source": [
    "df['College Code']=df['College Code'].astype(str)\n",
    "df['Subject Code']=df['Subject Code'].astype(str)\n",
    "df['Roll_No']=df['Roll_No'].astype(str)\n",
    "df['Student_Id']=df['College Code']+df['Subject Code']+df['Roll_No']\n",
    "df['Student_Id']"
   ]
  },
  {
   "cell_type": "code",
   "execution_count": 195,
   "metadata": {},
   "outputs": [
    {
     "data": {
      "text/html": [
       "<div>\n",
       "<style scoped>\n",
       "    .dataframe tbody tr th:only-of-type {\n",
       "        vertical-align: middle;\n",
       "    }\n",
       "\n",
       "    .dataframe tbody tr th {\n",
       "        vertical-align: top;\n",
       "    }\n",
       "\n",
       "    .dataframe thead th {\n",
       "        text-align: right;\n",
       "    }\n",
       "</style>\n",
       "<table border=\"1\" class=\"dataframe\">\n",
       "  <thead>\n",
       "    <tr style=\"text-align: right;\">\n",
       "      <th></th>\n",
       "      <th>1st</th>\n",
       "      <th>2nd</th>\n",
       "      <th>3rd</th>\n",
       "      <th>4th</th>\n",
       "      <th>5th</th>\n",
       "      <th>College Code</th>\n",
       "      <th>Gender</th>\n",
       "      <th>Subject Code</th>\n",
       "      <th>Roll_No</th>\n",
       "      <th>Student_Id</th>\n",
       "    </tr>\n",
       "  </thead>\n",
       "  <tbody>\n",
       "    <tr>\n",
       "      <th>0</th>\n",
       "      <td>8.11</td>\n",
       "      <td>7.68</td>\n",
       "      <td>7.11</td>\n",
       "      <td>7.43</td>\n",
       "      <td>8.18</td>\n",
       "      <td>115</td>\n",
       "      <td>Female</td>\n",
       "      <td>16</td>\n",
       "      <td>17020.0</td>\n",
       "      <td>1151617020.0</td>\n",
       "    </tr>\n",
       "    <tr>\n",
       "      <th>1</th>\n",
       "      <td>6.48</td>\n",
       "      <td>5.90</td>\n",
       "      <td>4.15</td>\n",
       "      <td>4.29</td>\n",
       "      <td>4.96</td>\n",
       "      <td>115</td>\n",
       "      <td>Male</td>\n",
       "      <td>16</td>\n",
       "      <td>17021.0</td>\n",
       "      <td>1151617021.0</td>\n",
       "    </tr>\n",
       "    <tr>\n",
       "      <th>2</th>\n",
       "      <td>8.41</td>\n",
       "      <td>8.24</td>\n",
       "      <td>7.52</td>\n",
       "      <td>8.25</td>\n",
       "      <td>7.75</td>\n",
       "      <td>115</td>\n",
       "      <td>Female</td>\n",
       "      <td>16</td>\n",
       "      <td>17022.0</td>\n",
       "      <td>1151617022.0</td>\n",
       "    </tr>\n",
       "    <tr>\n",
       "      <th>3</th>\n",
       "      <td>7.33</td>\n",
       "      <td>6.83</td>\n",
       "      <td>6.33</td>\n",
       "      <td>6.79</td>\n",
       "      <td>6.89</td>\n",
       "      <td>115</td>\n",
       "      <td>Male</td>\n",
       "      <td>16</td>\n",
       "      <td>17023.0</td>\n",
       "      <td>1151617023.0</td>\n",
       "    </tr>\n",
       "    <tr>\n",
       "      <th>4</th>\n",
       "      <td>7.89</td>\n",
       "      <td>7.34</td>\n",
       "      <td>7.22</td>\n",
       "      <td>7.32</td>\n",
       "      <td>7.46</td>\n",
       "      <td>115</td>\n",
       "      <td>Male</td>\n",
       "      <td>16</td>\n",
       "      <td>17024.0</td>\n",
       "      <td>1151617024.0</td>\n",
       "    </tr>\n",
       "  </tbody>\n",
       "</table>\n",
       "</div>"
      ],
      "text/plain": [
       "    1st   2nd   3rd   4th   5th College Code  Gender Subject Code  Roll_No  \\\n",
       "0  8.11  7.68  7.11  7.43  8.18          115  Female           16  17020.0   \n",
       "1  6.48  5.90  4.15  4.29  4.96          115    Male           16  17021.0   \n",
       "2  8.41  8.24  7.52  8.25  7.75          115  Female           16  17022.0   \n",
       "3  7.33  6.83  6.33  6.79  6.89          115    Male           16  17023.0   \n",
       "4  7.89  7.34  7.22  7.32  7.46          115    Male           16  17024.0   \n",
       "\n",
       "     Student_Id  \n",
       "0  1151617020.0  \n",
       "1  1151617021.0  \n",
       "2  1151617022.0  \n",
       "3  1151617023.0  \n",
       "4  1151617024.0  "
      ]
     },
     "execution_count": 195,
     "metadata": {},
     "output_type": "execute_result"
    }
   ],
   "source": [
    "df.head()"
   ]
  },
  {
   "cell_type": "code",
   "execution_count": 196,
   "metadata": {},
   "outputs": [
    {
     "data": {
      "text/html": [
       "<div>\n",
       "<style scoped>\n",
       "    .dataframe tbody tr th:only-of-type {\n",
       "        vertical-align: middle;\n",
       "    }\n",
       "\n",
       "    .dataframe tbody tr th {\n",
       "        vertical-align: top;\n",
       "    }\n",
       "\n",
       "    .dataframe thead th {\n",
       "        text-align: right;\n",
       "    }\n",
       "</style>\n",
       "<table border=\"1\" class=\"dataframe\">\n",
       "  <thead>\n",
       "    <tr style=\"text-align: right;\">\n",
       "      <th></th>\n",
       "      <th>1st</th>\n",
       "      <th>2nd</th>\n",
       "      <th>3rd</th>\n",
       "      <th>4th</th>\n",
       "      <th>5th</th>\n",
       "      <th>College Code</th>\n",
       "      <th>Gender</th>\n",
       "      <th>Student_Id</th>\n",
       "    </tr>\n",
       "  </thead>\n",
       "  <tbody>\n",
       "    <tr>\n",
       "      <th>0</th>\n",
       "      <td>8.11</td>\n",
       "      <td>7.68</td>\n",
       "      <td>7.11</td>\n",
       "      <td>7.43</td>\n",
       "      <td>8.18</td>\n",
       "      <td>115</td>\n",
       "      <td>Female</td>\n",
       "      <td>1151617020.0</td>\n",
       "    </tr>\n",
       "    <tr>\n",
       "      <th>1</th>\n",
       "      <td>6.48</td>\n",
       "      <td>5.90</td>\n",
       "      <td>4.15</td>\n",
       "      <td>4.29</td>\n",
       "      <td>4.96</td>\n",
       "      <td>115</td>\n",
       "      <td>Male</td>\n",
       "      <td>1151617021.0</td>\n",
       "    </tr>\n",
       "    <tr>\n",
       "      <th>2</th>\n",
       "      <td>8.41</td>\n",
       "      <td>8.24</td>\n",
       "      <td>7.52</td>\n",
       "      <td>8.25</td>\n",
       "      <td>7.75</td>\n",
       "      <td>115</td>\n",
       "      <td>Female</td>\n",
       "      <td>1151617022.0</td>\n",
       "    </tr>\n",
       "    <tr>\n",
       "      <th>3</th>\n",
       "      <td>7.33</td>\n",
       "      <td>6.83</td>\n",
       "      <td>6.33</td>\n",
       "      <td>6.79</td>\n",
       "      <td>6.89</td>\n",
       "      <td>115</td>\n",
       "      <td>Male</td>\n",
       "      <td>1151617023.0</td>\n",
       "    </tr>\n",
       "    <tr>\n",
       "      <th>4</th>\n",
       "      <td>7.89</td>\n",
       "      <td>7.34</td>\n",
       "      <td>7.22</td>\n",
       "      <td>7.32</td>\n",
       "      <td>7.46</td>\n",
       "      <td>115</td>\n",
       "      <td>Male</td>\n",
       "      <td>1151617024.0</td>\n",
       "    </tr>\n",
       "  </tbody>\n",
       "</table>\n",
       "</div>"
      ],
      "text/plain": [
       "    1st   2nd   3rd   4th   5th College Code  Gender    Student_Id\n",
       "0  8.11  7.68  7.11  7.43  8.18          115  Female  1151617020.0\n",
       "1  6.48  5.90  4.15  4.29  4.96          115    Male  1151617021.0\n",
       "2  8.41  8.24  7.52  8.25  7.75          115  Female  1151617022.0\n",
       "3  7.33  6.83  6.33  6.79  6.89          115    Male  1151617023.0\n",
       "4  7.89  7.34  7.22  7.32  7.46          115    Male  1151617024.0"
      ]
     },
     "execution_count": 196,
     "metadata": {},
     "output_type": "execute_result"
    }
   ],
   "source": [
    "df.drop(columns=['Subject Code','Roll_No'],inplace=True)\n",
    "df.head()"
   ]
  },
  {
   "cell_type": "code",
   "execution_count": 178,
   "metadata": {},
   "outputs": [
    {
     "data": {
      "text/plain": [
       "<seaborn.axisgrid.PairGrid at 0x213e344b850>"
      ]
     },
     "execution_count": 178,
     "metadata": {},
     "output_type": "execute_result"
    },
    {
     "data": {
      "image/png": "[encoded data removed]",
      "text/plain": [
       "<Figure size 900x900 with 30 Axes>"
      ]
     },
     "metadata": {
      "needs_background": "light"
     },
     "output_type": "display_data"
    }
   ],
   "source": [
    "sns.pairplot(df)"
   ]
  },
  {
   "cell_type": "code",
   "execution_count": 197,
   "metadata": {},
   "outputs": [],
   "source": [
    "df['Average']=(df['1st']+df['2nd']+df['3rd']+df['4th']+df['5th'])/5"
   ]
  },
  {
   "cell_type": "code",
   "execution_count": 198,
   "metadata": {},
   "outputs": [
    {
     "data": {
      "text/html": [
       "<div>\n",
       "<style scoped>\n",
       "    .dataframe tbody tr th:only-of-type {\n",
       "        vertical-align: middle;\n",
       "    }\n",
       "\n",
       "    .dataframe tbody tr th {\n",
       "        vertical-align: top;\n",
       "    }\n",
       "\n",
       "    .dataframe thead th {\n",
       "        text-align: right;\n",
       "    }\n",
       "</style>\n",
       "<table border=\"1\" class=\"dataframe\">\n",
       "  <thead>\n",
       "    <tr style=\"text-align: right;\">\n",
       "      <th></th>\n",
       "      <th>1st</th>\n",
       "      <th>2nd</th>\n",
       "      <th>3rd</th>\n",
       "      <th>4th</th>\n",
       "      <th>5th</th>\n",
       "      <th>College Code</th>\n",
       "      <th>Gender</th>\n",
       "      <th>Student_Id</th>\n",
       "      <th>Average</th>\n",
       "    </tr>\n",
       "  </thead>\n",
       "  <tbody>\n",
       "    <tr>\n",
       "      <th>0</th>\n",
       "      <td>8.11</td>\n",
       "      <td>7.68</td>\n",
       "      <td>7.11</td>\n",
       "      <td>7.43</td>\n",
       "      <td>8.18</td>\n",
       "      <td>115</td>\n",
       "      <td>Female</td>\n",
       "      <td>1151617020.0</td>\n",
       "      <td>7.702</td>\n",
       "    </tr>\n",
       "    <tr>\n",
       "      <th>1</th>\n",
       "      <td>6.48</td>\n",
       "      <td>5.90</td>\n",
       "      <td>4.15</td>\n",
       "      <td>4.29</td>\n",
       "      <td>4.96</td>\n",
       "      <td>115</td>\n",
       "      <td>Male</td>\n",
       "      <td>1151617021.0</td>\n",
       "      <td>5.156</td>\n",
       "    </tr>\n",
       "    <tr>\n",
       "      <th>2</th>\n",
       "      <td>8.41</td>\n",
       "      <td>8.24</td>\n",
       "      <td>7.52</td>\n",
       "      <td>8.25</td>\n",
       "      <td>7.75</td>\n",
       "      <td>115</td>\n",
       "      <td>Female</td>\n",
       "      <td>1151617022.0</td>\n",
       "      <td>8.034</td>\n",
       "    </tr>\n",
       "    <tr>\n",
       "      <th>3</th>\n",
       "      <td>7.33</td>\n",
       "      <td>6.83</td>\n",
       "      <td>6.33</td>\n",
       "      <td>6.79</td>\n",
       "      <td>6.89</td>\n",
       "      <td>115</td>\n",
       "      <td>Male</td>\n",
       "      <td>1151617023.0</td>\n",
       "      <td>6.834</td>\n",
       "    </tr>\n",
       "    <tr>\n",
       "      <th>4</th>\n",
       "      <td>7.89</td>\n",
       "      <td>7.34</td>\n",
       "      <td>7.22</td>\n",
       "      <td>7.32</td>\n",
       "      <td>7.46</td>\n",
       "      <td>115</td>\n",
       "      <td>Male</td>\n",
       "      <td>1151617024.0</td>\n",
       "      <td>7.446</td>\n",
       "    </tr>\n",
       "  </tbody>\n",
       "</table>\n",
       "</div>"
      ],
      "text/plain": [
       "    1st   2nd   3rd   4th   5th College Code  Gender    Student_Id  Average\n",
       "0  8.11  7.68  7.11  7.43  8.18          115  Female  1151617020.0    7.702\n",
       "1  6.48  5.90  4.15  4.29  4.96          115    Male  1151617021.0    5.156\n",
       "2  8.41  8.24  7.52  8.25  7.75          115  Female  1151617022.0    8.034\n",
       "3  7.33  6.83  6.33  6.79  6.89          115    Male  1151617023.0    6.834\n",
       "4  7.89  7.34  7.22  7.32  7.46          115    Male  1151617024.0    7.446"
      ]
     },
     "execution_count": 198,
     "metadata": {},
     "output_type": "execute_result"
    }
   ],
   "source": [
    "df.head()"
   ]
  },
  {
   "cell_type": "markdown",
   "metadata": {},
   "source": [
    "## <b>Spliting the Data</b>"
   ]
  },
  {
   "cell_type": "code",
   "execution_count": 312,
   "metadata": {},
   "outputs": [],
   "source": [
    "x = df[['1st','2nd','3rd','4th','5th']]\n",
    "y = df['Average']"
   ]
  },
  {
   "cell_type": "code",
   "execution_count": 313,
   "metadata": {},
   "outputs": [
    {
     "data": {
      "text/html": [
       "<div>\n",
       "<style scoped>\n",
       "    .dataframe tbody tr th:only-of-type {\n",
       "        vertical-align: middle;\n",
       "    }\n",
       "\n",
       "    .dataframe tbody tr th {\n",
       "        vertical-align: top;\n",
       "    }\n",
       "\n",
       "    .dataframe thead th {\n",
       "        text-align: right;\n",
       "    }\n",
       "</style>\n",
       "<table border=\"1\" class=\"dataframe\">\n",
       "  <thead>\n",
       "    <tr style=\"text-align: right;\">\n",
       "      <th></th>\n",
       "      <th>1st</th>\n",
       "      <th>2nd</th>\n",
       "      <th>3rd</th>\n",
       "      <th>4th</th>\n",
       "      <th>5th</th>\n",
       "    </tr>\n",
       "  </thead>\n",
       "  <tbody>\n",
       "    <tr>\n",
       "      <th>0</th>\n",
       "      <td>8.11</td>\n",
       "      <td>7.68</td>\n",
       "      <td>7.11</td>\n",
       "      <td>7.43</td>\n",
       "      <td>8.18</td>\n",
       "    </tr>\n",
       "    <tr>\n",
       "      <th>1</th>\n",
       "      <td>6.48</td>\n",
       "      <td>5.90</td>\n",
       "      <td>4.15</td>\n",
       "      <td>4.29</td>\n",
       "      <td>4.96</td>\n",
       "    </tr>\n",
       "    <tr>\n",
       "      <th>2</th>\n",
       "      <td>8.41</td>\n",
       "      <td>8.24</td>\n",
       "      <td>7.52</td>\n",
       "      <td>8.25</td>\n",
       "      <td>7.75</td>\n",
       "    </tr>\n",
       "    <tr>\n",
       "      <th>3</th>\n",
       "      <td>7.33</td>\n",
       "      <td>6.83</td>\n",
       "      <td>6.33</td>\n",
       "      <td>6.79</td>\n",
       "      <td>6.89</td>\n",
       "    </tr>\n",
       "    <tr>\n",
       "      <th>4</th>\n",
       "      <td>7.89</td>\n",
       "      <td>7.34</td>\n",
       "      <td>7.22</td>\n",
       "      <td>7.32</td>\n",
       "      <td>7.46</td>\n",
       "    </tr>\n",
       "  </tbody>\n",
       "</table>\n",
       "</div>"
      ],
      "text/plain": [
       "    1st   2nd   3rd   4th   5th\n",
       "0  8.11  7.68  7.11  7.43  8.18\n",
       "1  6.48  5.90  4.15  4.29  4.96\n",
       "2  8.41  8.24  7.52  8.25  7.75\n",
       "3  7.33  6.83  6.33  6.79  6.89\n",
       "4  7.89  7.34  7.22  7.32  7.46"
      ]
     },
     "execution_count": 313,
     "metadata": {},
     "output_type": "execute_result"
    }
   ],
   "source": [
    "x.head()"
   ]
  },
  {
   "cell_type": "code",
   "execution_count": 314,
   "metadata": {},
   "outputs": [
    {
     "data": {
      "text/plain": [
       "0    7.702\n",
       "1    5.156\n",
       "2    8.034\n",
       "3    6.834\n",
       "4    7.446\n",
       "Name: Average, dtype: float64"
      ]
     },
     "execution_count": 314,
     "metadata": {},
     "output_type": "execute_result"
    }
   ],
   "source": [
    "y.head()"
   ]
  },
  {
   "cell_type": "markdown",
   "metadata": {},
   "source": [
    "## <b> Training the Data </b>"
   ]
  },
  {
   "cell_type": "code",
   "execution_count": 315,
   "metadata": {},
   "outputs": [],
   "source": [
    "from sklearn.model_selection import train_test_split\n",
    "from sklearn.linear_model import LinearRegression\n",
    "from sklearn.metrics import classification_report, confusion_matrix\n",
    "from sklearn.linear_model import LogisticRegression,LogisticRegressionCV"
   ]
  },
  {
   "cell_type": "code",
   "execution_count": 316,
   "metadata": {},
   "outputs": [],
   "source": [
    "xtrain,xtest, ytrain,ytest = train_test_split(x,y, test_size=0.25, random_state = 101)"
   ]
  },
  {
   "cell_type": "markdown",
   "metadata": {},
   "source": [
    "## <b> Evaluation </b>"
   ]
  },
  {
   "cell_type": "code",
   "execution_count": 317,
   "metadata": {},
   "outputs": [
    {
     "data": {
      "text/plain": [
       "100.0"
      ]
     },
     "execution_count": 317,
     "metadata": {},
     "output_type": "execute_result"
    }
   ],
   "source": [
    "model = LinearRegression().fit(xtrain,ytrain)\n",
    "round( (model.score(xtest,ytest)*100),2)"
   ]
  },
  {
   "cell_type": "markdown",
   "metadata": {},
   "source": [
    "## <b> Deployment </b>"
   ]
  },
  {
   "cell_type": "code",
   "execution_count": 318,
   "metadata": {},
   "outputs": [],
   "source": [
    "Result = model\n",
    "pd.to_pickle(Result,'Result Prediction Model')"
   ]
  },
  {
   "cell_type": "markdown",
   "metadata": {},
   "source": [
    "# <b> Creating GUI </b>"
   ]
  },
  {
   "cell_type": "code",
   "execution_count": 319,
   "metadata": {},
   "outputs": [],
   "source": [
    "model = pd.read_pickle('Result Prediction Model')"
   ]
  },
  {
   "cell_type": "code",
   "execution_count": 320,
   "metadata": {},
   "outputs": [
    {
     "data": {
      "text/plain": [
       "LinearRegression()"
      ]
     },
     "execution_count": 320,
     "metadata": {},
     "output_type": "execute_result"
    }
   ],
   "source": [
    "model"
   ]
  },
  {
   "cell_type": "code",
   "execution_count": 321,
   "metadata": {},
   "outputs": [],
   "source": [
    "cols = ['1st','2nd','3rd','4th','5th','Average']\n",
    "import tkinter as tk"
   ]
  },
  {
   "cell_type": "code",
   "execution_count": 324,
   "metadata": {},
   "outputs": [],
   "source": [
    "def predict():\n",
    "    model = pd.read_pickle('Result Prediction Model')\n",
    "    cols = ['1st','2nd','3rd','4th','5th']\n",
    "    query = pd.DataFrame({'1st':[first.get()],'2nd':[second.get()],'3rd':[third.get()],'4th':[fourth.get()],'5th':[fifth.get()]})\n",
    "    print('The Final CGPA is ',model.predict(query)[0])\n",
    "                                                   \n",
    "\n",
    "\n",
    "\n",
    "app = tk.Tk()\n",
    "app.geometry('500x450')\n",
    "app.title(\"Result Prediction System\")\n",
    "app.configure(background='#567')\n",
    "\n",
    "## Creating Labels\n",
    " \n",
    "tk.Label(app,text='Result Prediction Model',font=('georgia', 15 ,\"bold\"),bg='black',fg='red').place(x=10,y=10)\n",
    "tk.Label(app, text='Enter The First Semester CGPA',font=('Georgia',10),fg= 'Black').place(x=50,y=50)\n",
    "tk.Label(app, text='Enter The Second Semester CGPA',font=('Georgia',10),fg='black').place(x=50,y=100)\n",
    "tk.Label(app, text='Enter The Third Semester CGPA',font=('Georgia',10),fg='black').place(x=50,y=150)\n",
    "tk.Label(app, text='Enter The Fourth Semester CGPA',font=('Georgia',10),fg='black').place(x=50,y=200)\n",
    "tk.Label(app, text='Enter The Fifth Semester CGPA',font=('Georgia',10),fg='black').place(x=50,y=250)\n",
    "\n",
    "\n",
    "\n",
    "## Declaring Varables\n",
    "first =tk.Variable(app)\n",
    "tk.Entry(app,textvariable = first,width=30,fg='black').place(x=300,y=50)\n",
    "second=tk.Variable(app)\n",
    "tk.Entry(app,textvariable = second,width=30,fg='black').place(x=300,y=100)\n",
    "third=tk.Variable(app)\n",
    "tk.Entry(app,textvariable = third,width=30,fg='black').place(x=300,y=150)\n",
    "fourth=tk.Variable(app)\n",
    "tk.Entry(app,textvariable = fourth,width=30,fg='black').place(x=300,y=200)                                                 \n",
    "fifth=tk.Variable(app)\n",
    "tk.Entry(app,textvariable = fifth,width=30,fg='black').place(x=300,y=250) \n",
    "\n",
    "\n",
    "                                   \n",
    "                                                   \n",
    "## Creating Button\n",
    "tk.Button(app,text='Predict Price',font='Algerian',bg='Black',width=15,fg='White', command=predict).place(x=150,y=300)\n",
    "\n",
    "\n",
    "app.mainloop()"
   ]
  },
  {
   "cell_type": "code",
   "execution_count": null,
   "metadata": {},
   "outputs": [],
   "source": []
  }
 ],
 "metadata": {
  "kernelspec": {
   "display_name": "Python 3",
   "language": "python",
   "name": "python3"
  },
  "language_info": {
   "codemirror_mode": {
    "name": "ipython",
    "version": 3
   },
   "file_extension": ".py",
   "mimetype": "text/x-python",
   "name": "python",
   "nbconvert_exporter": "python",
   "pygments_lexer": "ipython3",
   "version": "3.8.5"
  }
 },
 "nbformat": 4,
 "nbformat_minor": 4
}
